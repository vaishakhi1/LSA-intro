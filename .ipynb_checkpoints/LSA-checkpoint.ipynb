{
 "cells": [
  {
   "cell_type": "code",
   "execution_count": 2,
   "id": "857ac754",
   "metadata": {},
   "outputs": [
    {
     "name": "stderr",
     "output_type": "stream",
     "text": [
      "[nltk_data] Downloading package stopwords to /Users/vm/nltk_data...\n",
      "[nltk_data]   Package stopwords is already up-to-date!\n",
      "[nltk_data] Downloading package wordnet to /Users/vm/nltk_data...\n",
      "[nltk_data]   Package wordnet is already up-to-date!\n",
      "[nltk_data] Downloading package punkt to /Users/vm/nltk_data...\n",
      "[nltk_data]   Package punkt is already up-to-date!\n"
     ]
    }
   ],
   "source": [
    "from __future__ import print_function\n",
    "\n",
    "import numpy as np\n",
    "import scipy as sp\n",
    "import pandas as pd\n",
    "import matplotlib.pyplot as plt\n",
    "import os\n",
    "import functools\n",
    "import operator\n",
    "import nltk\n",
    "from scipy import stats\n",
    "\n",
    "\n",
    "\n",
    "nltk.download('stopwords')\n",
    "nltk.download('wordnet')\n",
    "nltk.download('punkt')\n",
    "from nltk.corpus import stopwords\n",
    "from collections import Counter\n",
    "from nltk.stem import PorterStemmer\n",
    "from nltk.stem import \tWordNetLemmatizer\n",
    "from num2words import num2words\n",
    "\n",
    "from scipy.sparse.linalg import svds\n",
    "from scipy.sparse import csr_matrix\n",
    "from sklearn.cluster import KMeans\n",
    "from sklearn.feature_extraction.text import TfidfVectorizer\n",
    "from sklearn.feature_extraction.text import CountVectorizer \n",
    "from sklearn.decomposition import LatentDirichletAllocation\n",
    "\n",
    "pd.set_option('precision', 2)\n"
   ]
  },
  {
   "cell_type": "markdown",
   "id": "87397ed3",
   "metadata": {},
   "source": [
    "# Import dataset\n",
    "\n",
    "To import the dataset. For now, import using from a csv file. In a later iteration, provide an option to import files. [ To add: An option to read from webpages, different separators]\n",
    "\n",
    "In the example, we are looking at a small collection of short senyences related to two different topics. This should allow us to envision the effects of changes in method."
   ]
  },
  {
   "cell_type": "code",
   "execution_count": 3,
   "id": "77b23048",
   "metadata": {},
   "outputs": [],
   "source": [
    "# example = pd.read_csv('/Users/vm/OneDrive/UNC/lsi/text_corpus.txt', header=None, names=['TEXT'],sep = \"\\n\")\n",
    "# example = example['TEXT'].tolist()\n",
    "\n",
    "example = ['Human machine interface for ABC computer applications',\n",
    "           'A survey of user opinion of computer system response time',\n",
    "           'The EPS user interface management system',\n",
    "           'System and human system engineering testing of EPS',\n",
    "           'Relation of user perceived response time to error measurement',\n",
    "           'The generation of random, binary, ordered trees',\n",
    "           'The intersection graph of paths in trees',\n",
    "           'Graph minor IV: Widths of trees and well-quasi-ordering',\n",
    "           'Graph minor: A survey']\n",
    "\n",
    "# example = [ \"Machine learning is fun\", \n",
    "#             \"Python is super, super cool\",\n",
    "#             \"Statistics is super cool, too\",\n",
    "#             \"Data science is fun\",\n",
    "#             \"Python is great for machine learning\",\n",
    "#             \"I like football\",\n",
    "#             \"Football is great to watch\"\n",
    "#             \"I think football is fun to play\"]"
   ]
  },
  {
   "cell_type": "markdown",
   "id": "45366702-f9d7-4a40-9e0e-c3f82e7ec39e",
   "metadata": {},
   "source": [
    "# Some Useful Functions"
   ]
  },
  {
   "cell_type": "code",
   "execution_count": 19,
   "id": "0bc2f888",
   "metadata": {},
   "outputs": [],
   "source": [
    "#Some Functions\n",
    "def flatten(t):\n",
    "    return [item for sublist in t for item in sublist]\n",
    "def count_tokens(w,example_tok):\n",
    "    count = 0\n",
    "    for sent in example_tok:\n",
    "        if w in sent:\n",
    "            count+= 1\n",
    "    return count\n",
    "\n",
    "def print_mat(a,cols=[],rows=[]):\n",
    "    np.set_printoptions(formatter={'float': lambda x: \"{0:0.2f}\".format(x)})\n",
    "    print(pd.DataFrame(a,cols,rows))  \n",
    "    return\n",
    "\n",
    "def tf_matrix(tf_type = 'sum'):\n",
    "    tf_mat = np.zeros(shape = (N_d,N_t))\n",
    "\n",
    "    len_example = np.array(list(map(lambda b: len(b), example_tok)))\n",
    "    avg_len = np.mean(len_example)\n",
    "    K_d = len_example/avg_len\n",
    "\n",
    "    #term frequency and tfidf\n",
    "    for i in range(N_d):\n",
    "        # i = 3\n",
    "        tokens = example_tok[i]\n",
    "        #print(tokens)\n",
    "\n",
    "        words_count = len(example_tok[i])\n",
    "        counter = Counter(example_tok[i])\n",
    "\n",
    "        for token in new_list:\n",
    "    #         try:\n",
    "            ind = new_list.index(token)\n",
    "\n",
    "            tf = counter[token]/words_count\n",
    "            tf2 = counter[token]\n",
    "            if (tf_type == 'std') or (tf_type == 'max'):\n",
    "                tf_mat[i,ind] = tf2\n",
    "            elif tf_type == 'sum':\n",
    "                tf_mat[i,ind] = tf2/words_count\n",
    "            elif tf_type == 'log':\n",
    "                tf_mat[i,ind] = np.log(tf2 +1)\n",
    "            elif tf_type == 'frac':\n",
    "                tf_mat[i,ind] = tf2/(tf2 + K_d[i])\n",
    "    if tf_type == 'max':\n",
    "        max_value = max(tf_mat[0])\n",
    "        min_value = min(tf_mat[0])\n",
    "\n",
    "\n",
    "        for row in tf_mat[1:]:   \n",
    "            max_value = max(max_value, max(row))\n",
    "            min_value = min(min_value, min(row))        \n",
    "        tf_mat = tf_mat/max_value            \n",
    "\n",
    "    return tf_mat\n",
    "\n",
    "\n",
    "\n",
    "\n",
    "def tfidf_matrix(idf_type = 'std'):\n",
    "    \n",
    "    DF = {}\n",
    "    for i in range(N_d):\n",
    "        tokens = example_tok[i]\n",
    "        for w in tokens:\n",
    "            if w in new_list:\n",
    "                try:\n",
    "                    DF[w].add(i)\n",
    "                except:\n",
    "                    DF[w] = {i}\n",
    "\n",
    "\n",
    "    for i in DF:\n",
    "        DF[i] = len(DF[i])\n",
    "        DF_BIR = DF[i]/(N_d - DF[i])\n",
    "    DF = np.fromiter(DF.values(), dtype=float) \n",
    "    if idf_type == 'std':\n",
    "        idf = np.log(N_t/DF) +1\n",
    "    elif idf_type == 'bir':\n",
    "        idf = -np.log(DF)\n",
    "        \n",
    "    tf_mat = np.zeros(shape = (N_d,N_t))\n",
    "    tf_idf = np.zeros(shape = (N_d,N_t))\n",
    "\n",
    "\n",
    "    #term frequency and tfidf\n",
    "    for i in range(N_d):\n",
    "        # i = 3\n",
    "        tokens = example_tok[i]\n",
    "        #print(tokens)\n",
    "\n",
    "        words_count = len(example_tok[i])\n",
    "        counter = Counter(example_tok[i])\n",
    "\n",
    "        for token in new_list:\n",
    "    #         try:\n",
    "            ind = new_list.index(token)\n",
    "\n",
    "            tf = counter[token]/words_count\n",
    "            tf2 = counter[token]\n",
    "\n",
    "            tf_mat[i,ind] = tf\n",
    "            if idf_type == 'std':\n",
    "                tf_idf[i,ind] = tf_sum[i,ind]*idf[ind]\n",
    "            elif idf_type == 'bir':\n",
    "                tf_idf[i,ind] = tf_sum[i,ind]*idf[ind]\n",
    "\n",
    "    return tf_idf"
   ]
  },
  {
   "cell_type": "markdown",
   "id": "d5a65016",
   "metadata": {},
   "source": [
    "# Preprocessing\n",
    "Before constructing the matrix, the text should be preprocessed. This involved \n",
    "1) retaining the stem of the words by removing plurals, tenses\n",
    "\n",
    "2) converting numbers to words\n",
    "\n",
    "3) removing stop words and special characters"
   ]
  },
  {
   "cell_type": "code",
   "execution_count": 5,
   "id": "fe4a9c5e",
   "metadata": {},
   "outputs": [
    {
     "name": "stdout",
     "output_type": "stream",
     "text": [
      "stemmed\n",
      "lemmatized\n",
      "number to worded\n",
      "stopwords removed\n",
      "punctuations removed\n",
      "tokenized\n",
      "34\n",
      "['system', 'survey', 'human', 'eps', 'interface', 'response', 'computer', 'time', 'minor', 'user', 'graph', 'tree']\n",
      "['system', 'human', 'eps', 'response', 'time', 'minor', 'user', 'graph', 'survey', 'interface', 'computer', 'tree']\n"
     ]
    }
   ],
   "source": [
    "## Vectorize\n",
    "#lower case\n",
    "example_LC = np.char.lower(example)\n",
    "\n",
    "#print(example_LC)\n",
    "\n",
    "\n",
    "# Stem\n",
    "example_stem = []\n",
    "#different stemmer algorithms may be used\n",
    "ps = PorterStemmer()\n",
    "for sentence in example_LC:\n",
    "  text = ' '.join([ps.stem(word) for word in sentence.split()])\n",
    "  example_stem.append(text)\n",
    "\n",
    "print('stemmed')\n",
    "\n",
    "\n",
    "# Lemmatize\n",
    "example_lem = []\n",
    "#different stemmer algorithms may be used\n",
    "lm = WordNetLemmatizer()\n",
    "for sentence in example_LC:\n",
    "  text = ' '.join([lm.lemmatize(word) for word in sentence.split()])\n",
    "  example_lem.append(text)\n",
    "\n",
    "print('lemmatized')\n",
    "\n",
    "\n",
    "# Number to words\n",
    "example_num = []\n",
    "for sentence in example_lem:\n",
    "  text = ' '.join([num2words(word) if word.isnumeric() else word for word in sentence.split()])\n",
    "  example_num.append(text)\n",
    "print('number to worded')\n",
    "    \n",
    "\n",
    "#remove stopwords\n",
    "stop_words = stopwords.words('english')\n",
    "stopwords_dict = Counter(stop_words)\n",
    "example_stop = []\n",
    "for sentence in example_num:\n",
    "  text = ' '.join([word for word in sentence.split() if word not in stopwords_dict])\n",
    "  example_stop.append(text)\n",
    "print('stopwords removed')\n",
    "\n",
    "\n",
    "# remove punctuations\n",
    "symbols = \"!\\\"#$%&()*+-.,/:;<=>?@[\\]^_`{|}~\\n\"\n",
    "for i in symbols:\n",
    "    example_stop = np.char.replace(example_stop, i, ' ')\n",
    "print('punctuations removed')\n",
    "\n",
    "# print(example_stop)\n",
    "\n",
    "example_tok = []\n",
    "for sentence in example_stop:\n",
    "  example_tok.append(nltk.word_tokenize(sentence))\n",
    "\n",
    "\n",
    "print('tokenized')\n",
    "\n",
    "\n",
    "# Prepare a list of tokens that are repeated atleast once\n",
    "token_list = flatten(example_tok)\n",
    "token_list = list(set(token_list))\n",
    "print(len(token_list))\n",
    "new_list = []\n",
    "for word in token_list: \n",
    "    if count_tokens(word,example_tok)>1:\n",
    "        new_list.append(word)\n",
    "print(new_list)\n",
    "soln = np.array([0, 1, 0, 0, 1, 0, 1, 0, 0, 0, 0, 1])\n",
    "sorting = np.argsort(soln)\n",
    "new_list = [new_list[i] for i in sorting]\n",
    "print(new_list)\n"
   ]
  },
  {
   "cell_type": "markdown",
   "id": "7e6c34d0",
   "metadata": {},
   "source": [
    "# Term Frequency\n",
    "The term frequency for each term $tf(w,d)$ is the frequency of the word $w$ in document $d$. This section is obtained from []\n",
    "\n",
    "\n",
    "Other representation methods include probabilistic relevance framework, language modelling, BM25, probabilistic inference networks, vector space model, information theoretic frameworks and so on. "
   ]
  },
  {
   "cell_type": "code",
   "execution_count": 6,
   "id": "30a012b0",
   "metadata": {},
   "outputs": [
    {
     "name": "stdout",
     "output_type": "stream",
     "text": [
      "<class 'list'>\n"
     ]
    },
    {
     "name": "stderr",
     "output_type": "stream",
     "text": [
      "/var/folders/02/3s3_02g52qs7rp56q4fgwj480000gn/T/ipykernel_33149/3926745305.py:8: RuntimeWarning: divide by zero encountered in log\n",
      "  plt.plot(x, np.log(x))\n"
     ]
    },
    {
     "data": {
      "text/plain": [
       "<matplotlib.legend.Legend at 0x7f96bb5e6100>"
      ]
     },
     "execution_count": 6,
     "metadata": {},
     "output_type": "execute_result"
    },
    {
     "data": {
      "image/png": "[encoded data removed]",
      "text/plain": [
       "<Figure size 432x288 with 1 Axes>"
      ]
     },
     "metadata": {
      "needs_background": "light"
     },
     "output_type": "display_data"
    }
   ],
   "source": [
    "## Showing the effect of different \n",
    "\n",
    "print(type(example_tok))\n",
    "x = np.array(range(10))\n",
    "plt.plot(x,x)\n",
    "plt.plot(x,x/(x+2))\n",
    "plt.plot(x,x/(x+0.5))\n",
    "plt.plot(x, np.log(x))\n",
    "plt.xlabel('Frequency')\n",
    "plt.ylabel('TF')\n",
    "plt.legend(['TF std','K_d = 0.5','K_d = 2','log'])"
   ]
  },
  {
   "cell_type": "markdown",
   "id": "5b298c87-6f34-4e42-abf7-8fe6c282b03c",
   "metadata": {},
   "source": [
    "# Term Frequency\n",
    "\n",
    "The steps involved in indexing can be expressed as follows: \n",
    "\n",
    "1) Assign terms/concepts to the documents in the corpus\n",
    "\n",
    "2) Assign to each term/concept a particular weight.\n",
    "\n",
    "Automatic extraction of terms and concepts: One approach is extraction of high frequency terms in the text. Using \"emphasis as an indicator of importance\". However, some very high frequency terms are not useful indicators of importance ('the', 'and'). These terms were removed from the text during preprocessing (stopwords).\n",
    "\n",
    "The standard term frequency matrix encodes the frequency of each term in different texts in the corpus. This is a relatively simple approach, however it may lead to bias towards documents with many term occurrences.\n",
    "$$tf[w,d]$$"
   ]
  },
  {
   "cell_type": "code",
   "execution_count": 10,
   "id": "73090bde",
   "metadata": {},
   "outputs": [
    {
     "name": "stdout",
     "output_type": "stream",
     "text": [
      "9\n",
      "[1 1 1 1 1 0 1 0 0 1 1 0]\n",
      "Examples from the paper, compare term from the same group and terms from different groups\n",
      "human, eps\n",
      "SpearmanrResult(correlation=1.0, pvalue=0.0)\n",
      "human, response\n",
      "SpearmanrResult(correlation=0.7666666666666667, pvalue=0.01594401657897401)\n",
      "   system  human  eps  response  time  minor  user  graph  survey  interface  \\\n",
      "0     0.0    1.0  0.0       0.0   0.0    0.0   0.0    0.0     0.0        1.0   \n",
      "1     1.0    0.0  0.0       1.0   1.0    0.0   1.0    0.0     1.0        0.0   \n",
      "2     1.0    0.0  1.0       0.0   0.0    0.0   1.0    0.0     0.0        1.0   \n",
      "3     2.0    1.0  1.0       0.0   0.0    0.0   0.0    0.0     0.0        0.0   \n",
      "4     0.0    0.0  0.0       1.0   1.0    0.0   1.0    0.0     0.0        0.0   \n",
      "5     0.0    0.0  0.0       0.0   0.0    0.0   0.0    0.0     0.0        0.0   \n",
      "6     0.0    0.0  0.0       0.0   0.0    0.0   0.0    1.0     0.0        0.0   \n",
      "7     0.0    0.0  0.0       0.0   0.0    1.0   0.0    1.0     0.0        0.0   \n",
      "8     0.0    0.0  0.0       0.0   0.0    1.0   0.0    1.0     1.0        0.0   \n",
      "\n",
      "   computer  tree  \n",
      "0       1.0   0.0  \n",
      "1       1.0   0.0  \n",
      "2       0.0   0.0  \n",
      "3       0.0   0.0  \n",
      "4       0.0   0.0  \n",
      "5       0.0   1.0  \n",
      "6       0.0   1.0  \n",
      "7       0.0   1.0  \n",
      "8       0.0   0.0  \n",
      "Matrix of Spearman Correlations between terms for the Standard matrix\n"
     ]
    },
    {
     "data": {
      "image/png": "[encoded data removed]",
      "text/plain": [
       "<Figure size 432x288 with 2 Axes>"
      ]
     },
     "metadata": {
      "needs_background": "light"
     },
     "output_type": "display_data"
    },
    {
     "name": "stdout",
     "output_type": "stream",
     "text": [
      "Matrix of Spearman Correlations for the Standard matrix with principal components\n"
     ]
    },
    {
     "data": {
      "image/png": "[encoded data removed]",
      "text/plain": [
       "<Figure size 432x288 with 2 Axes>"
      ]
     },
     "metadata": {
      "needs_background": "light"
     },
     "output_type": "display_data"
    }
   ],
   "source": [
    "\n",
    "# print(new_list)\n",
    "\n",
    "\n",
    "N_d = len(example_tok)\n",
    "print(N_d)\n",
    "\n",
    "#termlist =  functools.reduce(operator.iconcat, example_tok, [])\n",
    "#termlist = list(set(termlist))\n",
    "\n",
    "N_t = len(new_list)\n",
    "\n",
    "#Compute word frequency $$tf[w,d]$$\n",
    "tf_mat = tf_matrix('std')\n",
    "\n",
    "\n",
    "k =2\n",
    "U,s,Vt = svds(tf_mat,k=k)\n",
    "# print(np.transpose(Vt))\n",
    "# print(U)\n",
    "np.set_printoptions(formatter={'float': lambda x: \"{0:0.2f}\".format(x)})\n",
    "\n",
    "kmeans = KMeans(n_clusters=k, random_state=0).fit(np.transpose(Vt))\n",
    "print(kmeans.labels_)\n",
    "# plt.scatter(U[:,0],U[:,4],U[:,5],c=kmeans.labels_.astype(float))\n",
    "\n",
    "tf_hat = np.matmul(np.matmul(U,np.diag(s)),Vt)\n",
    "# print(pd.DataFrame(tf_hat, columns = new_list))\n",
    "y, rho =stats.spearmanr(tf_hat[:,2], tf_hat[:,4])\n",
    "# print(y)\n",
    "n1 = 1#1\n",
    "n2 = 2#7\n",
    "n3 = 3#9\n",
    "\n",
    "print('Examples from the paper, compare term from the same group and terms from different groups')\n",
    "print(new_list[n1] +', '+new_list[n2])\n",
    "print(stats.spearmanr(tf_hat[:,n1], tf_hat[:,n2]))\n",
    "print(new_list[n1] +', '+new_list[n3])\n",
    "print(stats.spearmanr(tf_hat[:,n1], tf_hat[:,n3]))\n",
    "kmeans = KMeans(n_clusters=k, random_state=0).fit(U)\n",
    "\n",
    "\n",
    "N_i = N_t\n",
    "corr_raw = np.zeros([N_i,N_i])\n",
    "corr = np.zeros([N_i,N_i])\n",
    "for i in range(N_i):\n",
    "    for j in range(i+1):\n",
    "        t,r = stats.spearmanr(tf_hat[:,i], tf_hat[:,j])\n",
    "        corr[i][j] = t\n",
    "\n",
    "for i in range(N_i):\n",
    "    for j in range(i+1):\n",
    "        t,r = stats.spearmanr(tf_mat[:,i], tf_mat[:,j])\n",
    "        corr_raw[i][j] = t\n",
    "        \n",
    "\n",
    "# N_i = N_d\n",
    "# corr_raw = np.zeros([N_i,N_i])\n",
    "# for i in range(N_i):\n",
    "#     for j in range(i+1):\n",
    "#         t,r = stats.spearmanr(tf_hat[i,:], tf_hat[j,:])\n",
    "#         corr[i][j] = t\n",
    "# corr = np.zeros([N_i,N_i])\n",
    "# for i in range(N_i):\n",
    "#     for j in range(i+1):\n",
    "#         t,r = stats.spearmanr(tf_mat[i,:], tf_mat[j,:])\n",
    "#         corr_raw[i][j] = t\n",
    "        \n",
    "print_mat(tf_mat,list(range(N_d)),new_list)     \n",
    "print('Matrix of Spearman Correlations between terms for the Standard matrix')\n",
    "plt.imshow(corr_raw,cmap='viridis')\n",
    "plt.colorbar()\n",
    "plt.show()\n",
    "print('Matrix of Spearman Correlations for the Standard matrix with principal components')\n",
    "plt.imshow(corr,cmap='viridis')\n",
    "plt.colorbar()\n",
    "plt.show()\n",
    "\n",
    "# print_mat(corr_raw)\n"
   ]
  },
  {
   "cell_type": "markdown",
   "id": "fff2ee42-d137-40ca-bd01-83814c30922a",
   "metadata": {},
   "source": [
    "# Analysis TF_sum\n",
    "\n",
    "2) TF sum - The term frequencies are normalized by the total number of terms in the document. Leads to biases towards short documents\n",
    "$$TF_{\\text{sum}} = \\frac{tf_{L}[w,d]}{\\sum_w{tf_{L}[w,d]}}$$\n",
    "\n",
    "The biases induced by variants 1 and 2 cannot be observed in the example being considered, since all documents are of equal length and have roughly the same number of terms."
   ]
  },
  {
   "cell_type": "code",
   "execution_count": 12,
   "id": "146879b8",
   "metadata": {},
   "outputs": [
    {
     "name": "stdout",
     "output_type": "stream",
     "text": [
      "Examples from the paper, compare term from the same group and terms from different groups\n",
      "human, eps\n",
      "SpearmanrResult(correlation=1.0, pvalue=0.0)\n",
      "human, response\n",
      "SpearmanrResult(correlation=0.7999999999999999, pvalue=0.00962792472537983)\n",
      "   system  human   eps  response  time  minor  user  graph  survey  interface  \\\n",
      "0    0.00   0.17  0.00      0.00  0.00   0.00  0.00   0.00    0.00       0.17   \n",
      "1    0.14   0.00  0.00      0.14  0.14   0.00  0.14   0.00    0.14       0.00   \n",
      "2    0.20   0.00  0.20      0.00  0.00   0.00  0.20   0.00    0.00       0.20   \n",
      "3    0.33   0.17  0.17      0.00  0.00   0.00  0.00   0.00    0.00       0.00   \n",
      "4    0.00   0.00  0.00      0.14  0.14   0.00  0.14   0.00    0.00       0.00   \n",
      "5    0.00   0.00  0.00      0.00  0.00   0.00  0.00   0.00    0.00       0.00   \n",
      "6    0.00   0.00  0.00      0.00  0.00   0.00  0.00   0.25    0.00       0.00   \n",
      "7    0.00   0.00  0.00      0.00  0.00   0.12  0.00   0.12    0.00       0.00   \n",
      "8    0.00   0.00  0.00      0.00  0.00   0.33  0.00   0.33    0.33       0.00   \n",
      "\n",
      "   computer  tree  \n",
      "0      0.17  0.00  \n",
      "1      0.14  0.00  \n",
      "2      0.00  0.00  \n",
      "3      0.00  0.00  \n",
      "4      0.00  0.00  \n",
      "5      0.00  0.20  \n",
      "6      0.00  0.25  \n",
      "7      0.00  0.12  \n",
      "8      0.00  0.00  \n",
      "Matrix of Spearman Correlations between terms for the TF_sum matrix\n"
     ]
    },
    {
     "data": {
      "image/png": "[encoded data removed]",
      "text/plain": [
       "<Figure size 432x288 with 2 Axes>"
      ]
     },
     "metadata": {
      "needs_background": "light"
     },
     "output_type": "display_data"
    },
    {
     "name": "stdout",
     "output_type": "stream",
     "text": [
      "Matrix of Spearman Correlations for the TF_sum matrix with principal components\n"
     ]
    },
    {
     "data": {
      "image/png": "[encoded data removed]",
      "text/plain": [
       "<Figure size 432x288 with 2 Axes>"
      ]
     },
     "metadata": {
      "needs_background": "light"
     },
     "output_type": "display_data"
    }
   ],
   "source": [
    "\n",
    "tf_sum = tf_matrix('sum')\n",
    "\n",
    "\n",
    "k =2\n",
    "U,s,Vt = svds(tf_sum,k=k)\n",
    "# print(np.transpose(Vt))\n",
    "# print(U)\n",
    "np.set_printoptions(formatter={'float': lambda x: \"{0:0.2f}\".format(x)})\n",
    "\n",
    "kmeans = KMeans(n_clusters=k, random_state=0).fit(U)\n",
    "# print(kmeans.labels_)\n",
    "# plt.scatter(U[:,0],U[:,4],U[:,5],c=kmeans.labels_.astype(float))\n",
    "\n",
    "tf_hat = np.matmul(np.matmul(U,np.diag(s)),Vt)\n",
    "# print(pd.DataFrame(tf_hat, columns = new_list))\n",
    "y, rho =stats.spearmanr(tf_hat[:,2], tf_hat[:,4])\n",
    "# print(y)\n",
    "n1 = 1#1\n",
    "n2 = 2#7\n",
    "n3 = 3#9\n",
    "\n",
    "print('Examples from the paper, compare term from the same group and terms from different groups')\n",
    "print(new_list[n1] +', '+new_list[n2])\n",
    "print(stats.spearmanr(tf_hat[:,n1], tf_hat[:,n2]))\n",
    "print(new_list[n1] +', '+new_list[n3])\n",
    "print(stats.spearmanr(tf_hat[:,n1], tf_hat[:,n3]))\n",
    "kmeans = KMeans(n_clusters=k, random_state=0).fit(U)\n",
    "\n",
    "\n",
    "\n",
    "N_i = N_t\n",
    "corr_raw = np.zeros([N_i,N_i])\n",
    "corr = np.zeros([N_i,N_i])\n",
    "for i in range(N_i):\n",
    "    for j in range(i+1):\n",
    "        t,r = stats.spearmanr(tf_hat[:,i], tf_hat[:,j])\n",
    "        corr[i][j] = t\n",
    "\n",
    "for i in range(N_i):\n",
    "    for j in range(i+1):\n",
    "        t,r = stats.spearmanr(tf_mat[:,i], tf_mat[:,j])\n",
    "        corr_raw[i][j] = t\n",
    "        \n",
    "\n",
    "# N_i = N_d\n",
    "# corr_raw = np.zeros([N_i,N_i])\n",
    "# for i in range(N_i):\n",
    "#     for j in range(i+1):\n",
    "#         t,r = stats.spearmanr(tf_hat[i,:], tf_hat[j,:])\n",
    "#         corr[i][j] = t\n",
    "# corr = np.zeros([N_i,N_i])\n",
    "# for i in range(N_i):\n",
    "#     for j in range(i+1):\n",
    "#         t,r = stats.spearmanr(tf_mat[i,:], tf_mat[j,:])\n",
    "#         corr_raw[i][j] = t\n",
    "        \n",
    "print_mat(tf_sum,list(range(N_d)),new_list) \n",
    "print('Matrix of Spearman Correlations between terms for the TF_sum matrix')\n",
    "plt.imshow(corr_raw,cmap='viridis')\n",
    "plt.colorbar()\n",
    "plt.show()\n",
    "print('Matrix of Spearman Correlations for the TF_sum matrix with principal components')\n",
    "plt.imshow(corr,cmap='viridis')\n",
    "plt.colorbar()\n",
    "plt.show()"
   ]
  },
  {
   "cell_type": "markdown",
   "id": "bda27b64-d227-47ed-a4d6-b37ab7005789",
   "metadata": {},
   "source": [
    "# Analysis TF_max\n",
    "\n",
    "\n",
    "3) TF max - The term frequencies are normalized by the highest number of occrrences for any term in the document. Mitigates the biases of variants 1 and 2\n",
    "$$TF_{\\text{max}} = \\frac{tf_{L}[w,d]}{\\max_w{tf_{L}[w,d]}}$$\n",
    "\n",
    "\n"
   ]
  },
  {
   "cell_type": "code",
   "execution_count": 15,
   "id": "02853c1b",
   "metadata": {},
   "outputs": [
    {
     "name": "stdout",
     "output_type": "stream",
     "text": [
      "Examples from the paper, compare term from the same group and terms from different groups\n",
      "human, eps\n",
      "SpearmanrResult(correlation=1.0, pvalue=0.0)\n",
      "human, response\n",
      "SpearmanrResult(correlation=0.7666666666666667, pvalue=0.01594401657897401)\n",
      "Matrix of Spearman Correlations between terms for the TF_max matrix\n"
     ]
    },
    {
     "data": {
      "image/png": "[encoded data removed]",
      "text/plain": [
       "<Figure size 432x288 with 2 Axes>"
      ]
     },
     "metadata": {
      "needs_background": "light"
     },
     "output_type": "display_data"
    },
    {
     "name": "stdout",
     "output_type": "stream",
     "text": [
      "Matrix of Spearman Correlations for the TF_max matrix with principal components\n"
     ]
    },
    {
     "data": {
      "image/png": "[encoded data removed]",
      "text/plain": [
       "<Figure size 432x288 with 2 Axes>"
      ]
     },
     "metadata": {
      "needs_background": "light"
     },
     "output_type": "display_data"
    }
   ],
   "source": [
    "tf_max = tf_matrix('max')\n",
    "\n",
    "k =2\n",
    "U,s,Vt = svds(tf_max,k=k)\n",
    "# print(np.transpose(Vt))\n",
    "# print(U)\n",
    "np.set_printoptions(formatter={'float': lambda x: \"{0:0.2f}\".format(x)})\n",
    "\n",
    "kmeans = KMeans(n_clusters=k, random_state=0).fit(U)\n",
    "# print(kmeans.labels_)\n",
    "# plt.scatter(U[:,0],U[:,4],U[:,5],c=kmeans.labels_.astype(float))\n",
    "\n",
    "tf_hat = np.matmul(np.matmul(U,np.diag(s)),Vt)\n",
    "# print(pd.DataFrame(tf_hat, columns = new_list))\n",
    "y, rho =stats.spearmanr(tf_hat[:,2], tf_hat[:,4])\n",
    "# print(y)\n",
    "n1 = 1#1\n",
    "n2 = 2#7\n",
    "n3 = 3#9\n",
    "\n",
    "print('Examples from the paper, compare term from the same group and terms from different groups')\n",
    "print(new_list[n1] +', '+new_list[n2])\n",
    "print(stats.spearmanr(tf_hat[:,n1], tf_hat[:,n2]))\n",
    "print(new_list[n1] +', '+new_list[n3])\n",
    "print(stats.spearmanr(tf_hat[:,n1], tf_hat[:,n3]))\n",
    "kmeans = KMeans(n_clusters=k, random_state=0).fit(U)\n",
    "kmeans = KMeans(n_clusters=k, random_state=0).fit(U)\n",
    "\n",
    "N_i = N_t\n",
    "corr_raw = np.zeros([N_i,N_i])\n",
    "corr = np.zeros([N_i,N_i])\n",
    "for i in range(N_i):\n",
    "    for j in range(i+1):\n",
    "        t,r = stats.spearmanr(tf_hat[:,i], tf_hat[:,j])\n",
    "        corr[i][j] = t\n",
    "\n",
    "for i in range(N_i):\n",
    "    for j in range(i+1):\n",
    "        t,r = stats.spearmanr(tf_mat[:,i], tf_mat[:,j])\n",
    "        corr_raw[i][j] = t\n",
    "        \n",
    "\n",
    "# N_i = N_d\n",
    "# corr_raw = np.zeros([N_i,N_i])\n",
    "# for i in range(N_i):\n",
    "#     for j in range(i+1):\n",
    "#         t,r = stats.spearmanr(tf_hat[i,:], tf_hat[j,:])\n",
    "#         corr[i][j] = t\n",
    "# corr = np.zeros([N_i,N_i])\n",
    "# for i in range(N_i):\n",
    "#     for j in range(i+1):\n",
    "#         t,r = stats.spearmanr(tf_mat[i,:], tf_mat[j,:])\n",
    "#         corr_raw[i][j] = t\n",
    "        \n",
    "        \n",
    "print('Matrix of Spearman Correlations between terms for the TF_max matrix')\n",
    "plt.imshow(corr_raw,cmap='viridis')\n",
    "plt.colorbar()\n",
    "plt.show()\n",
    "print('Matrix of Spearman Correlations for the TF_max matrix with principal components')\n",
    "plt.imshow(corr,cmap='viridis')\n",
    "plt.colorbar()\n",
    "plt.show()"
   ]
  },
  {
   "cell_type": "markdown",
   "id": "692e4d1c-0f68-4b8c-b359-813b1916800f",
   "metadata": {},
   "source": [
    "# Analysis TF_log\n",
    "\n",
    "\n",
    "4) TF log - reduces the impact of each additional occurrence\n",
    "$$TF_{\\text{log}} = \\log(1+ tf_{L}[w,d])$$\n",
    "\n"
   ]
  },
  {
   "cell_type": "code",
   "execution_count": 16,
   "id": "8ddf88d2-503f-4cf4-ac1e-a06052fb1a9b",
   "metadata": {},
   "outputs": [
    {
     "name": "stdout",
     "output_type": "stream",
     "text": [
      "Examples from the paper, compare term from the same group and terms from different groups\n",
      "human, eps\n",
      "SpearmanrResult(correlation=1.0, pvalue=0.0)\n",
      "human, response\n",
      "SpearmanrResult(correlation=0.8833333333333333, pvalue=0.0015905004234978686)\n",
      "Matrix of Spearman Correlations between terms for the TF_lg matrix\n"
     ]
    },
    {
     "data": {
      "image/png": "[encoded data removed]",
      "text/plain": [
       "<Figure size 432x288 with 2 Axes>"
      ]
     },
     "metadata": {
      "needs_background": "light"
     },
     "output_type": "display_data"
    },
    {
     "name": "stdout",
     "output_type": "stream",
     "text": [
      "Matrix of Spearman Correlations for the TF_log matrix with principal components\n"
     ]
    },
    {
     "data": {
      "image/png": "[encoded data removed]",
      "text/plain": [
       "<Figure size 432x288 with 2 Axes>"
      ]
     },
     "metadata": {
      "needs_background": "light"
     },
     "output_type": "display_data"
    }
   ],
   "source": [
    "\n",
    "tf_log = tf_matrix('log')\n",
    "\n",
    "k =2\n",
    "U,s,Vt = svds(tf_log,k=k)\n",
    "# print(np.transpose(Vt))\n",
    "# print(U)\n",
    "np.set_printoptions(formatter={'float': lambda x: \"{0:0.2f}\".format(x)})\n",
    "\n",
    "kmeans = KMeans(n_clusters=k, random_state=0).fit(U)\n",
    "# print(kmeans.labels_)\n",
    "# plt.scatter(U[:,0],U[:,4],U[:,5],c=kmeans.labels_.astype(float))\n",
    "\n",
    "tf_hat = np.matmul(np.matmul(U,np.diag(s)),Vt)\n",
    "# print(pd.DataFrame(tf_hat, columns = new_list))\n",
    "y, rho =stats.spearmanr(tf_hat[:,2], tf_hat[:,4])\n",
    "# print(y)\n",
    "n1 = 1#1\n",
    "n2 = 2#7\n",
    "n3 = 3#9\n",
    "\n",
    "print('Examples from the paper, compare term from the same group and terms from different groups')\n",
    "print(new_list[n1] +', '+new_list[n2])\n",
    "print(stats.spearmanr(tf_hat[:,n1], tf_hat[:,n2]))\n",
    "print(new_list[n1] +', '+new_list[n3])\n",
    "print(stats.spearmanr(tf_hat[:,n1], tf_hat[:,n3]))\n",
    "kmeans = KMeans(n_clusters=k, random_state=0).fit(U)\n",
    "kmeans = KMeans(n_clusters=k, random_state=0).fit(U)\n",
    "\n",
    "N_i = N_t\n",
    "corr_raw = np.zeros([N_i,N_i])\n",
    "corr = np.zeros([N_i,N_i])\n",
    "for i in range(N_i):\n",
    "    for j in range(i+1):\n",
    "        t,r = stats.spearmanr(tf_hat[:,i], tf_hat[:,j])\n",
    "        corr[i][j] = t\n",
    "\n",
    "for i in range(N_i):\n",
    "    for j in range(i+1):\n",
    "        t,r = stats.spearmanr(tf_mat[:,i], tf_mat[:,j])\n",
    "        corr_raw[i][j] = t\n",
    "        \n",
    "\n",
    "# N_i = N_d\n",
    "# corr_raw = np.zeros([N_i,N_i])\n",
    "# for i in range(N_i):\n",
    "#     for j in range(i+1):\n",
    "#         t,r = stats.spearmanr(tf_hat[i,:], tf_hat[j,:])\n",
    "#         corr[i][j] = t\n",
    "# corr = np.zeros([N_i,N_i])\n",
    "# for i in range(N_i):\n",
    "#     for j in range(i+1):\n",
    "#         t,r = stats.spearmanr(tf_mat[i,:], tf_mat[j,:])\n",
    "#         corr_raw[i][j] = t\n",
    "        \n",
    "        \n",
    "print('Matrix of Spearman Correlations between terms for the TF_lg matrix')\n",
    "plt.imshow(corr_raw,cmap='viridis')\n",
    "plt.colorbar()\n",
    "plt.show()\n",
    "print('Matrix of Spearman Correlations for the TF_log matrix with principal components')\n",
    "plt.imshow(corr,cmap='viridis')\n",
    "plt.colorbar()\n",
    "plt.show()"
   ]
  },
  {
   "cell_type": "markdown",
   "id": "cda04364",
   "metadata": {},
   "source": [
    "# Analysis: frac\n",
    "\n",
    "5) TF frac - Here $K_d$ is the pivoted document length. If $L_D = \\text{avg}({\\ell_d})$, where $\\ell_d$ is the length of document $d$, the pivoted document length is given by $K_d = \\ell_d/L_D$. It is less than one for short documents and more than one for longer documents. Like the logarithmic approach, the effect of each additional additional occurrence is reduced, the reduction is more pronounced for larger documents. $K_d$ is the pivoted document length. (As opposed to the TF log version, the fractional version is convergent.) \n",
    "\n",
    "\n",
    "$$TF_{\\text{frac,K}} = \\frac{tf_{L}[w,d]}{tf_{L}[w,d] + K_d}$$"
   ]
  },
  {
   "cell_type": "code",
   "execution_count": 17,
   "id": "d46503ec",
   "metadata": {},
   "outputs": [
    {
     "name": "stdout",
     "output_type": "stream",
     "text": [
      "Examples from the paper, compare term from the same group and terms from different groups\n",
      "human, eps\n",
      "SpearmanrResult(correlation=1.0, pvalue=0.0)\n",
      "human, response\n",
      "SpearmanrResult(correlation=0.7666666666666667, pvalue=0.01594401657897401)\n",
      "Matrix of Spearman Correlations between terms for the TF_max matrix\n"
     ]
    },
    {
     "data": {
      "image/png": "[encoded data removed]",
      "text/plain": [
       "<Figure size 432x288 with 2 Axes>"
      ]
     },
     "metadata": {
      "needs_background": "light"
     },
     "output_type": "display_data"
    },
    {
     "name": "stdout",
     "output_type": "stream",
     "text": [
      "Matrix of Spearman Correlations for the TF_max matrix with principal components\n"
     ]
    },
    {
     "data": {
      "image/png": "[encoded data removed]",
      "text/plain": [
       "<Figure size 432x288 with 2 Axes>"
      ]
     },
     "metadata": {
      "needs_background": "light"
     },
     "output_type": "display_data"
    }
   ],
   "source": [
    "\n",
    "tf_frac = tf_matrix('frac')\n",
    "\n",
    "\n",
    "k =2\n",
    "U,s,Vt = svds(tf_max,k=k)\n",
    "# print(np.transpose(Vt))\n",
    "# print(U)\n",
    "np.set_printoptions(formatter={'float': lambda x: \"{0:0.2f}\".format(x)})\n",
    "\n",
    "kmeans = KMeans(n_clusters=k, random_state=0).fit(U)\n",
    "# print(kmeans.labels_)\n",
    "# plt.scatter(U[:,0],U[:,4],U[:,5],c=kmeans.labels_.astype(float))\n",
    "\n",
    "tf_hat = np.matmul(np.matmul(U,np.diag(s)),Vt)\n",
    "# print(pd.DataFrame(tf_hat, columns = new_list))\n",
    "y, rho =stats.spearmanr(tf_hat[:,2], tf_hat[:,4])\n",
    "# print(y)\n",
    "n1 = 1#1\n",
    "n2 = 2#7\n",
    "n3 = 3#9\n",
    "\n",
    "print('Examples from the paper, compare term from the same group and terms from different groups')\n",
    "print(new_list[n1] +', '+new_list[n2])\n",
    "print(stats.spearmanr(tf_hat[:,n1], tf_hat[:,n2]))\n",
    "print(new_list[n1] +', '+new_list[n3])\n",
    "print(stats.spearmanr(tf_hat[:,n1], tf_hat[:,n3]))\n",
    "kmeans = KMeans(n_clusters=k, random_state=0).fit(U)\n",
    "kmeans = KMeans(n_clusters=k, random_state=0).fit(U)\n",
    "\n",
    "N_i = N_t\n",
    "corr_raw = np.zeros([N_i,N_i])\n",
    "corr = np.zeros([N_i,N_i])\n",
    "for i in range(N_i):\n",
    "    for j in range(i+1):\n",
    "        t,r = stats.spearmanr(tf_hat[:,i], tf_hat[:,j])\n",
    "        corr[i][j] = t\n",
    "\n",
    "for i in range(N_i):\n",
    "    for j in range(i+1):\n",
    "        t,r = stats.spearmanr(tf_mat[:,i], tf_mat[:,j])\n",
    "        corr_raw[i][j] = t\n",
    "        \n",
    "\n",
    "# N_i = N_d\n",
    "# corr_raw = np.zeros([N_i,N_i])\n",
    "# for i in range(N_i):\n",
    "#     for j in range(i+1):\n",
    "#         t,r = stats.spearmanr(tf_hat[i,:], tf_hat[j,:])\n",
    "#         corr[i][j] = t\n",
    "# corr = np.zeros([N_i,N_i])\n",
    "# for i in range(N_i):\n",
    "#     for j in range(i+1):\n",
    "#         t,r = stats.spearmanr(tf_mat[i,:], tf_mat[j,:])\n",
    "#         corr_raw[i][j] = t\n",
    "        \n",
    "        \n",
    "print('Matrix of Spearman Correlations between terms for the TF_max matrix')\n",
    "plt.imshow(corr_raw,cmap='viridis')\n",
    "plt.colorbar()\n",
    "plt.show()\n",
    "print('Matrix of Spearman Correlations for the TF_max matrix with principal components')\n",
    "plt.imshow(corr,cmap='viridis')\n",
    "plt.colorbar()\n",
    "plt.show()"
   ]
  },
  {
   "cell_type": "markdown",
   "id": "d066ec30",
   "metadata": {},
   "source": [
    "# Constructing the IDF matrix \n",
    "\n",
    "Document frequency(DF) $df(w)$ is the number of documents the word $w$ appears in. The IDF (inverse document frequency) is the negative logarithm of the document frequency. If a word appears in too many documents, it is a common word and does not help with understanding how the documents are different. Therefore, the term frequency matrix is weighted by the inverse of the document frequency.\n",
    "\n",
    "\n",
    "Document Frequency matrix variants.\n",
    "\n",
    "1) Stabdard document frequency \n",
    "$$df(w)$$\n",
    "\n",
    "2) Document frequency normalized by number of documents. The commonly used IDF uses this version of document frequency representation. The IDF$_{\\text{sum}}$ is low for rare terms and high for frequent terms.\n",
    "$$df_{\\text{sum}} = df(w)/D$$\n",
    "\n",
    "\n",
    "\n",
    "\n",
    "\n",
    "The TF-IDF matrix can be constructed as:\n",
    "\n",
    "$$\\text{TF-IDF}[w,d] = tf[w,d]*df[w]$$\n",
    "\n",
    "\n",
    "#A bit more about TF-IDF and Vector space Models\n",
    "VSMs (1970, Salton) and TF-IDF (1975, Salton et.. al)\n"
   ]
  },
  {
   "cell_type": "code",
   "execution_count": 21,
   "id": "82233977",
   "metadata": {},
   "outputs": [
    {
     "name": "stdout",
     "output_type": "stream",
     "text": [
      "Examples from the paper, compare term from the same group and terms from different groups\n",
      "human, eps\n",
      "SpearmanrResult(correlation=1.0, pvalue=0.0)\n",
      "human, response\n",
      "SpearmanrResult(correlation=0.7999999999999999, pvalue=0.00962792472537983)\n",
      "Matrix of Spearman Correlations between terms for the TF_IDF matrix\n"
     ]
    },
    {
     "data": {
      "image/png": "[encoded data removed]",
      "text/plain": [
       "<Figure size 432x288 with 2 Axes>"
      ]
     },
     "metadata": {
      "needs_background": "light"
     },
     "output_type": "display_data"
    },
    {
     "name": "stdout",
     "output_type": "stream",
     "text": [
      "Matrix of Spearman Correlations for the TF_IDF matrix with principal components\n"
     ]
    },
    {
     "data": {
      "image/png": "[encoded data removed]",
      "text/plain": [
       "<Figure size 432x288 with 2 Axes>"
      ]
     },
     "metadata": {
      "needs_background": "light"
     },
     "output_type": "display_data"
    }
   ],
   "source": [
    "\n",
    "tf_idf = tfidf_matrix('std')\n",
    "\n",
    "k =2\n",
    "U,s,Vt = svds(tf_idf,k=k)\n",
    "# print(np.transpose(Vt))\n",
    "# print(U)\n",
    "np.set_printoptions(formatter={'float': lambda x: \"{0:0.2f}\".format(x)})\n",
    "\n",
    "kmeans = KMeans(n_clusters=k, random_state=0).fit(U)\n",
    "# print(kmeans.labels_)\n",
    "# plt.scatter(U[:,0],U[:,4],U[:,5],c=kmeans.labels_.astype(float))\n",
    "\n",
    "tf_hat = np.matmul(np.matmul(U,np.diag(s)),Vt)\n",
    "# print(pd.DataFrame(tf_hat, columns = new_list))\n",
    "y, rho =stats.spearmanr(tf_hat[:,2], tf_hat[:,4])\n",
    "# print(y)\n",
    "n1 = 1#1\n",
    "n2 = 2#7\n",
    "n3 = 3#9\n",
    "\n",
    "print('Examples from the paper, compare term from the same group and terms from different groups')\n",
    "print(new_list[n1] +', '+new_list[n2])\n",
    "print(stats.spearmanr(tf_hat[:,n1], tf_hat[:,n2]))\n",
    "print(new_list[n1] +', '+new_list[n3])\n",
    "print(stats.spearmanr(tf_hat[:,n1], tf_hat[:,n3]))\n",
    "kmeans = KMeans(n_clusters=k, random_state=0).fit(U)\n",
    "kmeans = KMeans(n_clusters=k, random_state=0).fit(U)\n",
    "\n",
    "N_i = N_t\n",
    "corr_raw = np.zeros([N_i,N_i])\n",
    "corr = np.zeros([N_i,N_i])\n",
    "for i in range(N_i):\n",
    "    for j in range(i+1):\n",
    "        t,r = stats.spearmanr(tf_hat[:,i], tf_hat[:,j])\n",
    "        corr[i][j] = t\n",
    "\n",
    "for i in range(N_i):\n",
    "    for j in range(i+1):\n",
    "        t,r = stats.spearmanr(tf_mat[:,i], tf_mat[:,j])\n",
    "        corr_raw[i][j] = t\n",
    "        \n",
    "\n",
    "# N_i = N_d\n",
    "# corr_raw = np.zeros([N_i,N_i])\n",
    "# for i in range(N_i):\n",
    "#     for j in range(i+1):\n",
    "#         t,r = stats.spearmanr(tf_hat[i,:], tf_hat[j,:])\n",
    "#         corr[i][j] = t\n",
    "# corr = np.zeros([N_i,N_i])\n",
    "# for i in range(N_i):\n",
    "#     for j in range(i+1):\n",
    "#         t,r = stats.spearmanr(tf_mat[i,:], tf_mat[j,:])\n",
    "#         corr_raw[i][j] = t\n",
    "        \n",
    "        \n",
    "print('Matrix of Spearman Correlations between terms for the TF_IDF matrix')\n",
    "plt.imshow(corr_raw,cmap='viridis')\n",
    "plt.colorbar()\n",
    "plt.show()\n",
    "print('Matrix of Spearman Correlations for the TF_IDF matrix with principal components')\n",
    "plt.imshow(corr,cmap='viridis')\n",
    "plt.colorbar()\n",
    "plt.show()\n",
    "\n"
   ]
  },
  {
   "cell_type": "markdown",
   "id": "1aa59d20-0bfc-4e1c-86a4-0573ca570e8d",
   "metadata": {},
   "source": [
    "# TFIDF BIR \n",
    "\n",
    "\n",
    "\n",
    "3) Document frequency BIR\n",
    "$$df_{\\text{BIR}} = (df(w))/(D-df(w))$$\n",
    "\n",
    "3) Document frequency normalized by number of documents, smooth\n",
    "$$df_{\\text{sum,smooth}} = (df(w)+0.5)/(D+1)$$\n",
    "\n",
    "\n",
    "3) Document frequency BIR,smooth\n",
    "$$df_{\\text{BIR,smooth}} = (df(w) + 0.5)/(D-df(w)_0.5)$$"
   ]
  },
  {
   "cell_type": "code",
   "execution_count": 25,
   "id": "af9d495c-4865-4a54-a03e-14ab3c914d8d",
   "metadata": {},
   "outputs": [
    {
     "name": "stdout",
     "output_type": "stream",
     "text": [
      "Examples from the paper, compare term from the same group and terms from different groups\n",
      "human, eps\n",
      "SpearmanrResult(correlation=1.0, pvalue=0.0)\n",
      "human, response\n",
      "SpearmanrResult(correlation=0.8333333333333333, pvalue=0.005265691029161748)\n",
      "Matrix of Spearman Correlations between terms for the TF_IDF_BIR matrix\n"
     ]
    },
    {
     "data": {
      "image/png": "[encoded data removed]",
      "text/plain": [
       "<Figure size 432x288 with 2 Axes>"
      ]
     },
     "metadata": {
      "needs_background": "light"
     },
     "output_type": "display_data"
    },
    {
     "name": "stdout",
     "output_type": "stream",
     "text": [
      "Matrix of Spearman Correlations for the TF_IDF matrix with principal components\n"
     ]
    },
    {
     "data": {
      "image/png": "[encoded data removed]",
      "text/plain": [
       "<Figure size 432x288 with 2 Axes>"
      ]
     },
     "metadata": {
      "needs_background": "light"
     },
     "output_type": "display_data"
    }
   ],
   "source": [
    "\n",
    "tf_idf_bir = tfidf_matrix('bir')\n",
    "\n",
    "k =2\n",
    "U,s,Vt = svds(tf_idf_bir,k=k)\n",
    "# print(np.transpose(Vt))\n",
    "# print(U)\n",
    "np.set_printoptions(formatter={'float': lambda x: \"{0:0.2f}\".format(x)})\n",
    "\n",
    "kmeans = KMeans(n_clusters=k, random_state=0).fit(U)\n",
    "# print(kmeans.labels_)\n",
    "# plt.scatter(U[:,0],U[:,4],U[:,5],c=kmeans.labels_.astype(float))\n",
    "\n",
    "tf_hat = np.matmul(np.matmul(U,np.diag(s)),Vt)\n",
    "# print(pd.DataFrame(tf_hat, columns = new_list))\n",
    "y, rho =stats.spearmanr(tf_hat[:,2], tf_hat[:,4])\n",
    "n1 = 1#1\n",
    "n2 = 2#7\n",
    "n3 = 3#9\n",
    "\n",
    "print('Examples from the paper, compare term from the same group and terms from different groups')\n",
    "print(new_list[n1] +', '+new_list[n2])\n",
    "print(stats.spearmanr(tf_hat[:,n1], tf_hat[:,n2]))\n",
    "print(new_list[n1] +', '+new_list[n3])\n",
    "print(stats.spearmanr(tf_hat[:,n1], tf_hat[:,n3]))\n",
    "kmeans = KMeans(n_clusters=k, random_state=0).fit(U)\n",
    "kmeans = KMeans(n_clusters=k, random_state=0).fit(U)\n",
    "\n",
    "N_i = N_t\n",
    "corr_raw = np.zeros([N_i,N_i])\n",
    "corr = np.zeros([N_i,N_i])\n",
    "for i in range(N_i):\n",
    "    for j in range(i+1):\n",
    "        t,r = stats.spearmanr(tf_hat[:,i], tf_hat[:,j])\n",
    "        corr[i][j] = t\n",
    "\n",
    "for i in range(N_i):\n",
    "    for j in range(i+1):\n",
    "        t,r = stats.spearmanr(tf_mat[:,i], tf_mat[:,j])\n",
    "        corr_raw[i][j] = t\n",
    "        \n",
    "\n",
    "# N_i = N_d\n",
    "# corr_raw = np.zeros([N_i,N_i])\n",
    "# for i in range(N_i):\n",
    "#     for j in range(i+1):\n",
    "#         t,r = stats.spearmanr(tf_hat[i,:], tf_hat[j,:])\n",
    "#         corr[i][j] = t\n",
    "# corr = np.zeros([N_i,N_i])\n",
    "# for i in range(N_i):\n",
    "#     for j in range(i+1):\n",
    "#         t,r = stats.spearmanr(tf_mat[i,:], tf_mat[j,:])\n",
    "#         corr_raw[i][j] = t\n",
    "        \n",
    "        \n",
    "print('Matrix of Spearman Correlations between terms for the TF_IDF_BIR matrix')\n",
    "plt.imshow(corr_raw,cmap='viridis')\n",
    "plt.colorbar()\n",
    "plt.show()\n",
    "print('Matrix of Spearman Correlations for the TF_IDF matrix with principal components')\n",
    "plt.imshow(corr,cmap='viridis')\n",
    "plt.colorbar()\n",
    "plt.show()\n",
    "\n",
    "\n"
   ]
  },
  {
   "cell_type": "markdown",
   "id": "50e2286c",
   "metadata": {},
   "source": [
    "# Observations\n",
    "\n",
    "For the dataset 1, all Variations on the TF-IDF matrix show an improvement over the standard term frequency matrix. The best improvement is shown by the TF_sum matrix. The low rank approximation with $k = 2$ vectors shows much better correlation for all TF matrix combinations. The dataset 1 is a relatively uniform dataset, with sentences of equal length and relatively similar weights.\n",
    "\n",
    "For dataset 2, TF_sum, TF-IDF and TF-IDF BIR show the best performance"
   ]
  },
  {
   "cell_type": "markdown",
   "id": "6ce6f2bd",
   "metadata": {},
   "source": [
    "# Other Notes\n",
    "\n",
    "\n",
    "\n",
    "\n",
    "\n",
    "6) BM25 - It is similar to the fractional version, factor \n",
    "\n",
    "$$TF_{\\text{frac,K}} = \\frac{tf_{L}[w,d]}{tf_{L}[w,d] + k_1(b(K_d) +(1-b))}$$\n",
    "\n",
    "The graph in the next cell shows the comparison between the standard, log and the fractional version of TF (for $K_d = 0.5,2$)\n",
    "\n",
    "\n",
    "\n",
    "Burstiness - A term is said to be bursty if it is common in the documents it appears.\n",
    "\n",
    "A good term is rare and occurs without burstiness (?) in the documents\n",
    "\n"
   ]
  },
  {
   "cell_type": "code",
   "execution_count": null,
   "id": "d6bf448a",
   "metadata": {},
   "outputs": [],
   "source": [
    "tfidf_vectorizer = TfidfVectorizer(stop_words='english')\n",
    "tfidf_vector = tfidf_vectorizer.fit_transform(example)"
   ]
  }
 ],
 "metadata": {
  "kernelspec": {
   "display_name": "Python 3 (ipykernel)",
   "language": "python",
   "name": "python3"
  },
  "language_info": {
   "codemirror_mode": {
    "name": "ipython",
    "version": 3
   },
   "file_extension": ".py",
   "mimetype": "text/x-python",
   "name": "python",
   "nbconvert_exporter": "python",
   "pygments_lexer": "ipython3",
   "version": "3.8.2"
  },
  "toc-showmarkdowntxt": false
 },
 "nbformat": 4,
 "nbformat_minor": 5
}
